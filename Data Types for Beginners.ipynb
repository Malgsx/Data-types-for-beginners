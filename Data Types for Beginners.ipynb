{
 "cells": [
  {
   "cell_type": "markdown",
   "id": "07c50e64",
   "metadata": {},
   "source": [
    "# Data Types"
   ]
  },
  {
   "cell_type": "markdown",
   "id": "c1b5852f",
   "metadata": {},
   "source": [
    "# Integers - Number values"
   ]
  },
  {
   "cell_type": "code",
   "execution_count": 1,
   "id": "22a9aaed",
   "metadata": {},
   "outputs": [
    {
     "data": {
      "text/plain": [
       "(int, int)"
      ]
     },
     "execution_count": 1,
     "metadata": {},
     "output_type": "execute_result"
    }
   ],
   "source": [
    "type(1) , type(-12)"
   ]
  },
  {
   "cell_type": "code",
   "execution_count": 5,
   "id": "9122fbd5",
   "metadata": {},
   "outputs": [],
   "source": [
    "# Computation with integers example."
   ]
  },
  {
   "cell_type": "code",
   "execution_count": 10,
   "id": "4eb747c5",
   "metadata": {},
   "outputs": [
    {
     "data": {
      "text/plain": [
       "int"
      ]
     },
     "execution_count": 10,
     "metadata": {},
     "output_type": "execute_result"
    }
   ],
   "source": [
    "type(9+9)"
   ]
  },
  {
   "cell_type": "markdown",
   "id": "5e2ee5c2",
   "metadata": {},
   "source": [
    "# Float - Decimal points"
   ]
  },
  {
   "cell_type": "code",
   "execution_count": 12,
   "id": "93f077f0",
   "metadata": {},
   "outputs": [
    {
     "data": {
      "text/plain": [
       "float"
      ]
     },
     "execution_count": 12,
     "metadata": {},
     "output_type": "execute_result"
    }
   ],
   "source": [
    "type(1 + 1.5)"
   ]
  },
  {
   "cell_type": "markdown",
   "id": "f5b00d6f",
   "metadata": {},
   "source": [
    "# Complex Integers example"
   ]
  },
  {
   "cell_type": "code",
   "execution_count": 14,
   "id": "35b545fc",
   "metadata": {},
   "outputs": [
    {
     "data": {
      "text/plain": [
       "complex"
      ]
     },
     "execution_count": 14,
     "metadata": {},
     "output_type": "execute_result"
    }
   ],
   "source": [
    "type(1 + 1.5j) ... # J is the only letter that works with this."
   ]
  },
  {
   "cell_type": "markdown",
   "id": "08f6a815",
   "metadata": {},
   "source": [
    "# Boolean - True or False"
   ]
  },
  {
   "cell_type": "code",
   "execution_count": 25,
   "id": "a741459c",
   "metadata": {},
   "outputs": [
    {
     "data": {
      "text/plain": [
       "bool"
      ]
     },
     "execution_count": 25,
     "metadata": {},
     "output_type": "execute_result"
    }
   ],
   "source": [
    "type(True)"
   ]
  },
  {
   "cell_type": "code",
   "execution_count": 26,
   "id": "e084ebb7",
   "metadata": {},
   "outputs": [
    {
     "data": {
      "text/plain": [
       "bool"
      ]
     },
     "execution_count": 26,
     "metadata": {},
     "output_type": "execute_result"
    }
   ],
   "source": [
    "type(False)"
   ]
  },
  {
   "cell_type": "markdown",
   "id": "341151d5",
   "metadata": {},
   "source": [
    " # Strings - Fucntions that use quotation marks."
   ]
  },
  {
   "cell_type": "code",
   "execution_count": 29,
   "id": "82cd3bf2",
   "metadata": {},
   "outputs": [
    {
     "data": {
      "text/plain": [
       "'Hello, my name is John'"
      ]
     },
     "execution_count": 29,
     "metadata": {},
     "output_type": "execute_result"
    }
   ],
   "source": [
    "'Hello, my name is John'"
   ]
  },
  {
   "cell_type": "code",
   "execution_count": 30,
   "id": "d578efb8",
   "metadata": {},
   "outputs": [
    {
     "data": {
      "text/plain": [
       "\"Hello, my name is John and I've just passed my last exam \""
      ]
     },
     "execution_count": 30,
     "metadata": {},
     "output_type": "execute_result"
    }
   ],
   "source": [
    "\"Hello, my name is John and I've just passed my last exam \""
   ]
  },
  {
   "cell_type": "markdown",
   "id": "1486a5ab",
   "metadata": {},
   "source": [
    "# Indexing inside of Strings"
   ]
  },
  {
   "cell_type": "code",
   "execution_count": 35,
   "id": "3858c930",
   "metadata": {},
   "outputs": [
    {
     "name": "stdout",
     "output_type": "stream",
     "text": [
      "My name\n"
     ]
    }
   ],
   "source": [
    "a = 'My name is John'\n",
    "print(a[:7]) \n",
    "\n",
    "# The number next to the semi colon represents the number of values inlcuding the space."
   ]
  },
  {
   "cell_type": "markdown",
   "id": "3f202f39",
   "metadata": {},
   "source": [
    "# List - Brackets define the fucntion as a list. Works similar to a string."
   ]
  },
  {
   "cell_type": "code",
   "execution_count": 40,
   "id": "e0dcda81",
   "metadata": {},
   "outputs": [
    {
     "data": {
      "text/plain": [
       "[1, 2, 3]"
      ]
     },
     "execution_count": 40,
     "metadata": {},
     "output_type": "execute_result"
    }
   ],
   "source": [
    "[1,2,3]"
   ]
  },
  {
   "cell_type": "code",
   "execution_count": 41,
   "id": "12f640d6",
   "metadata": {},
   "outputs": [
    {
     "data": {
      "text/plain": [
       "['I had a great day today']"
      ]
     },
     "execution_count": 41,
     "metadata": {},
     "output_type": "execute_result"
    }
   ],
   "source": [
    "[\"I had a great day today\"]"
   ]
  },
  {
   "cell_type": "code",
   "execution_count": 48,
   "id": "91a3377e",
   "metadata": {},
   "outputs": [
    {
     "data": {
      "text/plain": [
       "['I had a great day today', 'tommorw will be an even better day']"
      ]
     },
     "execution_count": 48,
     "metadata": {},
     "output_type": "execute_result"
    }
   ],
   "source": [
    "good_day = [\"I had a great day today\"]\n",
    "\n",
    "good_day.append('tommorw will be an even better day')\n",
    "\n",
    "good_day\n",
    "\n",
    "# Append will allow you to add to the end of said list."
   ]
  },
  {
   "cell_type": "code",
   "execution_count": 49,
   "id": "296fc906",
   "metadata": {},
   "outputs": [
    {
     "data": {
      "text/plain": [
       "'I had a great day today'"
      ]
     },
     "execution_count": 49,
     "metadata": {},
     "output_type": "execute_result"
    }
   ],
   "source": [
    "good_day[0] # Adding in the integer, the index pulls the first part of the list."
   ]
  },
  {
   "cell_type": "code",
   "execution_count": 50,
   "id": "37bb15a4",
   "metadata": {},
   "outputs": [
    {
     "data": {
      "text/plain": [
       "'tommorw will be an even better day'"
      ]
     },
     "execution_count": 50,
     "metadata": {},
     "output_type": "execute_result"
    }
   ],
   "source": [
    "good_day[1] "
   ]
  },
  {
   "cell_type": "markdown",
   "id": "67a55592",
   "metadata": {},
   "source": [
    "# Tuple"
   ]
  },
  {
   "cell_type": "code",
   "execution_count": 51,
   "id": "169da481",
   "metadata": {},
   "outputs": [],
   "source": [
    "# You cannot change what is included inside of a Tuple.\n",
    "# It is best to use for data that will never change."
   ]
  },
  {
   "cell_type": "code",
   "execution_count": 58,
   "id": "fc828244",
   "metadata": {},
   "outputs": [],
   "source": [
    "tuple_number = (1,2,3)"
   ]
  },
  {
   "cell_type": "markdown",
   "id": "52b67fce",
   "metadata": {},
   "source": [
    "# Sets"
   ]
  },
  {
   "cell_type": "code",
   "execution_count": 62,
   "id": "6425cf3b",
   "metadata": {},
   "outputs": [
    {
     "name": "stdout",
     "output_type": "stream",
     "text": [
      "{1, 2, 3, 4}\n"
     ]
    }
   ],
   "source": [
    "number_of_nba_teams = {1,2,3,4}\n",
    "print(number_of_nba_teams)"
   ]
  },
  {
   "cell_type": "code",
   "execution_count": 63,
   "id": "c50b508f",
   "metadata": {},
   "outputs": [],
   "source": [
    "favorite_nba_teams = {\"lakers\", \"grizzlies\", \"celtics\", \"bucks\", \"pelicans\"}"
   ]
  },
  {
   "cell_type": "code",
   "execution_count": 64,
   "id": "da624a5e",
   "metadata": {},
   "outputs": [],
   "source": [
    "guest_favorite_nba_teams = {\"lakers\", \"raptors\", \"rockets\", \"jazz\", \"trailblazers\"}"
   ]
  },
  {
   "cell_type": "code",
   "execution_count": 65,
   "id": "cdf426f6",
   "metadata": {},
   "outputs": [
    {
     "name": "stdout",
     "output_type": "stream",
     "text": [
      "{'lakers', 'rockets', 'celtics', 'grizzlies', 'pelicans', 'trailblazers', 'bucks', 'raptors', 'jazz'}\n"
     ]
    }
   ],
   "source": [
    "print(favorite_nba_teams | guest_favorite_nba_teams) # Unique values between sets when using the | symbol"
   ]
  },
  {
   "cell_type": "code",
   "execution_count": 66,
   "id": "bcfe37d6",
   "metadata": {},
   "outputs": [
    {
     "name": "stdout",
     "output_type": "stream",
     "text": [
      "{'lakers'}\n"
     ]
    }
   ],
   "source": [
    "print(favorite_nba_teams & guest_favorite_nba_teams) # The & will display what shows up in both sets."
   ]
  },
  {
   "cell_type": "code",
   "execution_count": 67,
   "id": "87fc185a",
   "metadata": {},
   "outputs": [
    {
     "name": "stdout",
     "output_type": "stream",
     "text": [
      "{'pelicans', 'grizzlies', 'bucks', 'celtics'}\n"
     ]
    }
   ],
   "source": [
    "print(favorite_nba_teams - guest_favorite_nba_teams)  # The minus sign will display what does not match up."
   ]
  },
  {
   "cell_type": "markdown",
   "id": "2fd1380e",
   "metadata": {},
   "source": [
    "# Dictionaries - Key Value Pair"
   ]
  },
  {
   "cell_type": "code",
   "execution_count": 69,
   "id": "3c411a67",
   "metadata": {},
   "outputs": [
    {
     "name": "stdout",
     "output_type": "stream",
     "text": [
      "{'author': 'John Appleseed', 'book written': 4, 'titles': ['Harry Potter', 'Twilight', 'Lord of the Rings']}\n"
     ]
    }
   ],
   "source": [
    "dict_books = {'author': 'John Appleseed', 'book written': 4, 'titles': ['Harry Potter', 'Twilight', 'Lord of the Rings']}\n",
    "print(dict_books)"
   ]
  },
  {
   "cell_type": "code",
   "execution_count": null,
   "id": "7e242c5a",
   "metadata": {},
   "outputs": [],
   "source": []
  }
 ],
 "metadata": {
  "kernelspec": {
   "display_name": "Python 3 (ipykernel)",
   "language": "python",
   "name": "python3"
  },
  "language_info": {
   "codemirror_mode": {
    "name": "ipython",
    "version": 3
   },
   "file_extension": ".py",
   "mimetype": "text/x-python",
   "name": "python",
   "nbconvert_exporter": "python",
   "pygments_lexer": "ipython3",
   "version": "3.9.13"
  }
 },
 "nbformat": 4,
 "nbformat_minor": 5
}
